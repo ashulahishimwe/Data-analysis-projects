{
 "cells": [
  {
   "cell_type": "code",
   "execution_count": 7,
   "id": "436bd543-bf37-4e99-9cf6-4c308fe01f53",
   "metadata": {},
   "outputs": [],
   "source": [
    "#Importing required libraries\n",
    "import numpy as np\n",
    "import matplotlib.pyplot as plt\n",
    "import seaborn as sns\n",
    "import pandas as pd"
   ]
  },
  {
   "cell_type": "markdown",
   "id": "6050f699-c56e-4ccc-9870-d49700ba95ab",
   "metadata": {},
   "source": [
    "1. Load any stata file you have into a Pandas DataFrame, rename your file as \n",
    "“Results_b”, and display the first 4 rows. What is the size of the dataframe? "
   ]
  },
  {
   "cell_type": "code",
   "execution_count": 15,
   "id": "39ae5cbc-19f0-4af5-bcac-8f34fc8a0397",
   "metadata": {},
   "outputs": [
    {
     "data": {
      "text/html": [
       "<div>\n",
       "<style scoped>\n",
       "    .dataframe tbody tr th:only-of-type {\n",
       "        vertical-align: middle;\n",
       "    }\n",
       "\n",
       "    .dataframe tbody tr th {\n",
       "        vertical-align: top;\n",
       "    }\n",
       "\n",
       "    .dataframe thead th {\n",
       "        text-align: right;\n",
       "    }\n",
       "</style>\n",
       "<table border=\"1\" class=\"dataframe\">\n",
       "  <thead>\n",
       "    <tr style=\"text-align: right;\">\n",
       "      <th></th>\n",
       "      <th>hhid</th>\n",
       "      <th>province</th>\n",
       "      <th>district</th>\n",
       "      <th>ur2012</th>\n",
       "      <th>ur2_2012</th>\n",
       "      <th>region</th>\n",
       "      <th>weight</th>\n",
       "      <th>hhtype</th>\n",
       "      <th>s0q19m</th>\n",
       "      <th>s0q19y</th>\n",
       "      <th>...</th>\n",
       "      <th>s6fq3</th>\n",
       "      <th>s6fq4</th>\n",
       "      <th>s6fq5</th>\n",
       "      <th>s6fq6</th>\n",
       "      <th>s6fq7</th>\n",
       "      <th>s6fq8</th>\n",
       "      <th>s6fq9</th>\n",
       "      <th>s6fq10</th>\n",
       "      <th>s6fq11</th>\n",
       "      <th>s6fq12</th>\n",
       "    </tr>\n",
       "  </thead>\n",
       "  <tbody>\n",
       "    <tr>\n",
       "      <th>66076</th>\n",
       "      <td>114419.0</td>\n",
       "      <td>Eastern Province</td>\n",
       "      <td>Bugesera</td>\n",
       "      <td>Rural</td>\n",
       "      <td>Rural</td>\n",
       "      <td>Rural Eastern</td>\n",
       "      <td>173.16568</td>\n",
       "      <td>New sample (cluster&gt;=2000 and cluster&lt;5000)</td>\n",
       "      <td>4.0</td>\n",
       "      <td>14.0</td>\n",
       "      <td>...</td>\n",
       "      <td>Yes</td>\n",
       "      <td>6.0</td>\n",
       "      <td>Yes</td>\n",
       "      <td>3.0</td>\n",
       "      <td>No</td>\n",
       "      <td>NaN</td>\n",
       "      <td>Yes</td>\n",
       "      <td>8.0</td>\n",
       "      <td>Yes</td>\n",
       "      <td>7.0</td>\n",
       "    </tr>\n",
       "    <tr>\n",
       "      <th>66077</th>\n",
       "      <td>114419.0</td>\n",
       "      <td>Eastern Province</td>\n",
       "      <td>Bugesera</td>\n",
       "      <td>Rural</td>\n",
       "      <td>Rural</td>\n",
       "      <td>Rural Eastern</td>\n",
       "      <td>173.16568</td>\n",
       "      <td>New sample (cluster&gt;=2000 and cluster&lt;5000)</td>\n",
       "      <td>4.0</td>\n",
       "      <td>14.0</td>\n",
       "      <td>...</td>\n",
       "      <td>No</td>\n",
       "      <td>NaN</td>\n",
       "      <td>Yes</td>\n",
       "      <td>3.0</td>\n",
       "      <td>No</td>\n",
       "      <td>NaN</td>\n",
       "      <td>No</td>\n",
       "      <td>NaN</td>\n",
       "      <td>No</td>\n",
       "      <td>NaN</td>\n",
       "    </tr>\n",
       "    <tr>\n",
       "      <th>66078</th>\n",
       "      <td>114420.0</td>\n",
       "      <td>Eastern Province</td>\n",
       "      <td>Bugesera</td>\n",
       "      <td>Rural</td>\n",
       "      <td>Rural</td>\n",
       "      <td>Rural Eastern</td>\n",
       "      <td>173.16568</td>\n",
       "      <td>New sample (cluster&gt;=2000 and cluster&lt;5000)</td>\n",
       "      <td>4.0</td>\n",
       "      <td>14.0</td>\n",
       "      <td>...</td>\n",
       "      <td>No</td>\n",
       "      <td>NaN</td>\n",
       "      <td>Yes</td>\n",
       "      <td>7.0</td>\n",
       "      <td>No</td>\n",
       "      <td>NaN</td>\n",
       "      <td>Yes</td>\n",
       "      <td>13.0</td>\n",
       "      <td>Yes</td>\n",
       "      <td>1.0</td>\n",
       "    </tr>\n",
       "    <tr>\n",
       "      <th>66079</th>\n",
       "      <td>114420.0</td>\n",
       "      <td>Eastern Province</td>\n",
       "      <td>Bugesera</td>\n",
       "      <td>Rural</td>\n",
       "      <td>Rural</td>\n",
       "      <td>Rural Eastern</td>\n",
       "      <td>173.16568</td>\n",
       "      <td>New sample (cluster&gt;=2000 and cluster&lt;5000)</td>\n",
       "      <td>4.0</td>\n",
       "      <td>14.0</td>\n",
       "      <td>...</td>\n",
       "      <td>No</td>\n",
       "      <td>NaN</td>\n",
       "      <td>Yes</td>\n",
       "      <td>21.0</td>\n",
       "      <td>Yes</td>\n",
       "      <td>5.0</td>\n",
       "      <td>Yes</td>\n",
       "      <td>21.0</td>\n",
       "      <td>Yes</td>\n",
       "      <td>7.0</td>\n",
       "    </tr>\n",
       "    <tr>\n",
       "      <th>66080</th>\n",
       "      <td>114420.0</td>\n",
       "      <td>Eastern Province</td>\n",
       "      <td>Bugesera</td>\n",
       "      <td>Rural</td>\n",
       "      <td>Rural</td>\n",
       "      <td>Rural Eastern</td>\n",
       "      <td>173.16568</td>\n",
       "      <td>New sample (cluster&gt;=2000 and cluster&lt;5000)</td>\n",
       "      <td>4.0</td>\n",
       "      <td>14.0</td>\n",
       "      <td>...</td>\n",
       "      <td>Yes</td>\n",
       "      <td>2.0</td>\n",
       "      <td>Yes</td>\n",
       "      <td>2.0</td>\n",
       "      <td>No</td>\n",
       "      <td>NaN</td>\n",
       "      <td>No</td>\n",
       "      <td>NaN</td>\n",
       "      <td>No</td>\n",
       "      <td>NaN</td>\n",
       "    </tr>\n",
       "  </tbody>\n",
       "</table>\n",
       "<p>5 rows × 127 columns</p>\n",
       "</div>"
      ],
      "text/plain": [
       "           hhid          province  district ur2012 ur2_2012         region  \\\n",
       "66076  114419.0  Eastern Province  Bugesera  Rural    Rural  Rural Eastern   \n",
       "66077  114419.0  Eastern Province  Bugesera  Rural    Rural  Rural Eastern   \n",
       "66078  114420.0  Eastern Province  Bugesera  Rural    Rural  Rural Eastern   \n",
       "66079  114420.0  Eastern Province  Bugesera  Rural    Rural  Rural Eastern   \n",
       "66080  114420.0  Eastern Province  Bugesera  Rural    Rural  Rural Eastern   \n",
       "\n",
       "          weight                                       hhtype  s0q19m  s0q19y  \\\n",
       "66076  173.16568  New sample (cluster>=2000 and cluster<5000)     4.0    14.0   \n",
       "66077  173.16568  New sample (cluster>=2000 and cluster<5000)     4.0    14.0   \n",
       "66078  173.16568  New sample (cluster>=2000 and cluster<5000)     4.0    14.0   \n",
       "66079  173.16568  New sample (cluster>=2000 and cluster<5000)     4.0    14.0   \n",
       "66080  173.16568  New sample (cluster>=2000 and cluster<5000)     4.0    14.0   \n",
       "\n",
       "       ...  s6fq3  s6fq4 s6fq5 s6fq6 s6fq7  s6fq8  s6fq9  s6fq10 s6fq11 s6fq12  \n",
       "66076  ...    Yes    6.0   Yes   3.0    No    NaN    Yes     8.0    Yes    7.0  \n",
       "66077  ...     No    NaN   Yes   3.0    No    NaN     No     NaN     No    NaN  \n",
       "66078  ...     No    NaN   Yes   7.0    No    NaN    Yes    13.0    Yes    1.0  \n",
       "66079  ...     No    NaN   Yes  21.0   Yes    5.0    Yes    21.0    Yes    7.0  \n",
       "66080  ...    Yes    2.0   Yes   2.0    No    NaN     No     NaN     No    NaN  \n",
       "\n",
       "[5 rows x 127 columns]"
      ]
     },
     "execution_count": 15,
     "metadata": {},
     "output_type": "execute_result"
    }
   ],
   "source": [
    "Result_b=pd.read_stata(\"cs_s1_s2_s3_s4_s6a_s6e_s6f_person.dta\")\n",
    "Result_b.tail(5)"
   ]
  },
  {
   "cell_type": "code",
   "execution_count": 22,
   "id": "a88cb025-9c8a-4448-ab56-20fa530cc83c",
   "metadata": {},
   "outputs": [
    {
     "name": "stdout",
     "output_type": "stream",
     "text": [
      "False\n"
     ]
    },
    {
     "ename": "KeyError",
     "evalue": "'urban_rural'",
     "output_type": "error",
     "traceback": [
      "\u001b[1;31m---------------------------------------------------------------------------\u001b[0m",
      "\u001b[1;31mKeyError\u001b[0m                                  Traceback (most recent call last)",
      "File \u001b[1;32m~\\anaconda3\\Lib\\site-packages\\pandas\\core\\indexes\\base.py:3805\u001b[0m, in \u001b[0;36mIndex.get_loc\u001b[1;34m(self, key)\u001b[0m\n\u001b[0;32m   3804\u001b[0m \u001b[38;5;28;01mtry\u001b[39;00m:\n\u001b[1;32m-> 3805\u001b[0m     \u001b[38;5;28;01mreturn\u001b[39;00m \u001b[38;5;28mself\u001b[39m\u001b[38;5;241m.\u001b[39m_engine\u001b[38;5;241m.\u001b[39mget_loc(casted_key)\n\u001b[0;32m   3806\u001b[0m \u001b[38;5;28;01mexcept\u001b[39;00m \u001b[38;5;167;01mKeyError\u001b[39;00m \u001b[38;5;28;01mas\u001b[39;00m err:\n",
      "File \u001b[1;32mindex.pyx:167\u001b[0m, in \u001b[0;36mpandas._libs.index.IndexEngine.get_loc\u001b[1;34m()\u001b[0m\n",
      "File \u001b[1;32mindex.pyx:196\u001b[0m, in \u001b[0;36mpandas._libs.index.IndexEngine.get_loc\u001b[1;34m()\u001b[0m\n",
      "File \u001b[1;32mpandas\\\\_libs\\\\hashtable_class_helper.pxi:7081\u001b[0m, in \u001b[0;36mpandas._libs.hashtable.PyObjectHashTable.get_item\u001b[1;34m()\u001b[0m\n",
      "File \u001b[1;32mpandas\\\\_libs\\\\hashtable_class_helper.pxi:7089\u001b[0m, in \u001b[0;36mpandas._libs.hashtable.PyObjectHashTable.get_item\u001b[1;34m()\u001b[0m\n",
      "\u001b[1;31mKeyError\u001b[0m: 'urban_rural'",
      "\nThe above exception was the direct cause of the following exception:\n",
      "\u001b[1;31mKeyError\u001b[0m                                  Traceback (most recent call last)",
      "Cell \u001b[1;32mIn[22], line 2\u001b[0m\n\u001b[0;32m      1\u001b[0m \u001b[38;5;28mprint\u001b[39m(\u001b[38;5;124m'\u001b[39m\u001b[38;5;124murban_rural\u001b[39m\u001b[38;5;124m'\u001b[39m \u001b[38;5;129;01min\u001b[39;00m Result_b\u001b[38;5;241m.\u001b[39mcolumns) \n\u001b[1;32m----> 2\u001b[0m \u001b[38;5;28mprint\u001b[39m(Result_b[\u001b[38;5;124m'\u001b[39m\u001b[38;5;124murban_rural\u001b[39m\u001b[38;5;124m'\u001b[39m])\n",
      "File \u001b[1;32m~\\anaconda3\\Lib\\site-packages\\pandas\\core\\frame.py:4102\u001b[0m, in \u001b[0;36mDataFrame.__getitem__\u001b[1;34m(self, key)\u001b[0m\n\u001b[0;32m   4100\u001b[0m \u001b[38;5;28;01mif\u001b[39;00m \u001b[38;5;28mself\u001b[39m\u001b[38;5;241m.\u001b[39mcolumns\u001b[38;5;241m.\u001b[39mnlevels \u001b[38;5;241m>\u001b[39m \u001b[38;5;241m1\u001b[39m:\n\u001b[0;32m   4101\u001b[0m     \u001b[38;5;28;01mreturn\u001b[39;00m \u001b[38;5;28mself\u001b[39m\u001b[38;5;241m.\u001b[39m_getitem_multilevel(key)\n\u001b[1;32m-> 4102\u001b[0m indexer \u001b[38;5;241m=\u001b[39m \u001b[38;5;28mself\u001b[39m\u001b[38;5;241m.\u001b[39mcolumns\u001b[38;5;241m.\u001b[39mget_loc(key)\n\u001b[0;32m   4103\u001b[0m \u001b[38;5;28;01mif\u001b[39;00m is_integer(indexer):\n\u001b[0;32m   4104\u001b[0m     indexer \u001b[38;5;241m=\u001b[39m [indexer]\n",
      "File \u001b[1;32m~\\anaconda3\\Lib\\site-packages\\pandas\\core\\indexes\\base.py:3812\u001b[0m, in \u001b[0;36mIndex.get_loc\u001b[1;34m(self, key)\u001b[0m\n\u001b[0;32m   3807\u001b[0m     \u001b[38;5;28;01mif\u001b[39;00m \u001b[38;5;28misinstance\u001b[39m(casted_key, \u001b[38;5;28mslice\u001b[39m) \u001b[38;5;129;01mor\u001b[39;00m (\n\u001b[0;32m   3808\u001b[0m         \u001b[38;5;28misinstance\u001b[39m(casted_key, abc\u001b[38;5;241m.\u001b[39mIterable)\n\u001b[0;32m   3809\u001b[0m         \u001b[38;5;129;01mand\u001b[39;00m \u001b[38;5;28many\u001b[39m(\u001b[38;5;28misinstance\u001b[39m(x, \u001b[38;5;28mslice\u001b[39m) \u001b[38;5;28;01mfor\u001b[39;00m x \u001b[38;5;129;01min\u001b[39;00m casted_key)\n\u001b[0;32m   3810\u001b[0m     ):\n\u001b[0;32m   3811\u001b[0m         \u001b[38;5;28;01mraise\u001b[39;00m InvalidIndexError(key)\n\u001b[1;32m-> 3812\u001b[0m     \u001b[38;5;28;01mraise\u001b[39;00m \u001b[38;5;167;01mKeyError\u001b[39;00m(key) \u001b[38;5;28;01mfrom\u001b[39;00m \u001b[38;5;21;01merr\u001b[39;00m\n\u001b[0;32m   3813\u001b[0m \u001b[38;5;28;01mexcept\u001b[39;00m \u001b[38;5;167;01mTypeError\u001b[39;00m:\n\u001b[0;32m   3814\u001b[0m     \u001b[38;5;66;03m# If we have a listlike key, _check_indexing_error will raise\u001b[39;00m\n\u001b[0;32m   3815\u001b[0m     \u001b[38;5;66;03m#  InvalidIndexError. Otherwise we fall through and re-raise\u001b[39;00m\n\u001b[0;32m   3816\u001b[0m     \u001b[38;5;66;03m#  the TypeError.\u001b[39;00m\n\u001b[0;32m   3817\u001b[0m     \u001b[38;5;28mself\u001b[39m\u001b[38;5;241m.\u001b[39m_check_indexing_error(key)\n",
      "\u001b[1;31mKeyError\u001b[0m: 'urban_rural'"
     ]
    }
   ],
   "source": [
    "print('urban_rural' in Result_b.columns) \n",
    "print(Result_b['urban_rural'])"
   ]
  },
  {
   "cell_type": "code",
   "execution_count": 24,
   "id": "fb4f536c-27c0-4f8d-a657-fd1a79968eb6",
   "metadata": {},
   "outputs": [
    {
     "data": {
      "text/plain": [
       "66081"
      ]
     },
     "execution_count": 24,
     "metadata": {},
     "output_type": "execute_result"
    }
   ],
   "source": [
    "len(Result_b) #size of dataframe"
   ]
  },
  {
   "cell_type": "markdown",
   "id": "ade4ddba-cdfc-47e9-bfcd-4147309bb0b3",
   "metadata": {},
   "source": [
    "2. Use the .describe() function to summarize the statistics of a numerical column from a \n",
    "dataset. What insights can you infer from the output?"
   ]
  },
  {
   "cell_type": "code",
   "execution_count": 13,
   "id": "9cf8790a-b2fb-4d77-8baa-bda9b123ed20",
   "metadata": {},
   "outputs": [
    {
     "name": "stdout",
     "output_type": "stream",
     "text": [
      "count    66081.000000\n",
      "mean       173.000516\n",
      "std         50.115346\n",
      "min         46.711591\n",
      "25%        151.176997\n",
      "50%        164.736655\n",
      "75%        182.019502\n",
      "max        685.041781\n",
      "Name: weight, dtype: float64\n"
     ]
    }
   ],
   "source": [
    "weight_summary = Result_b[\"weight\"].describe()\n",
    "print(weight_summary)"
   ]
  },
  {
   "cell_type": "markdown",
   "id": "344fe9dd-a6b3-4d92-9133-a2d1fe863018",
   "metadata": {},
   "source": [
    "3. Rename the variables s1q1,s1q2,s1q3y and s3q3 as Sex, Relat_Hhead, Age, and \n",
    "Health_insurance respectively."
   ]
  },
  {
   "cell_type": "code",
   "execution_count": 10,
   "id": "9e0e4573-97e3-4bc2-8469-91a0d568f11d",
   "metadata": {},
   "outputs": [
    {
     "name": "stdout",
     "output_type": "stream",
     "text": [
      "Index(['hhid', 'province', 'district', 'ur2012', 'ur2_2012', 'region',\n",
      "       'weight', 'hhtype', 's0q19m', 's0q19y',\n",
      "       ...\n",
      "       's6fq3', 's6fq4', 's6fq5', 's6fq6', 's6fq7', 's6fq8', 's6fq9', 's6fq10',\n",
      "       's6fq11', 's6fq12'],\n",
      "      dtype='object', length=127)\n"
     ]
    }
   ],
   "source": [
    "Result_b=pd.read_stata(\"cs_s1_s2_s3_s4_s6a_s6e_s6f_person.dta\")\n",
    "print(Result_b.columns)"
   ]
  },
  {
   "cell_type": "code",
   "execution_count": 46,
   "id": "473dd4cc-1dfd-47ad-a45b-10a62c80e614",
   "metadata": {},
   "outputs": [
    {
     "name": "stdout",
     "output_type": "stream",
     "text": [
      "       hhid     province    district urban_rural ur2_2012       region  \\\n",
      "0  100001.0  Kigali City  Nyarugenge       Urban    Urban  Kigali City   \n",
      "1  100001.0  Kigali City  Nyarugenge       Urban    Urban  Kigali City   \n",
      "2  100001.0  Kigali City  Nyarugenge       Urban    Urban  Kigali City   \n",
      "3  100001.0  Kigali City  Nyarugenge       Urban    Urban  Kigali City   \n",
      "4  100001.0  Kigali City  Nyarugenge       Urban    Urban  Kigali City   \n",
      "5  100002.0  Kigali City  Nyarugenge       Urban    Urban  Kigali City   \n",
      "6  100002.0  Kigali City  Nyarugenge       Urban    Urban  Kigali City   \n",
      "7  100002.0  Kigali City  Nyarugenge       Urban    Urban  Kigali City   \n",
      "\n",
      "      weight                                            hhtype  s0q19m  \\\n",
      "0  71.459792  Replaced different household (dependent code 95)    11.0   \n",
      "1  71.459792  Replaced different household (dependent code 95)    11.0   \n",
      "2  71.459792  Replaced different household (dependent code 95)    11.0   \n",
      "3  71.459792  Replaced different household (dependent code 95)    11.0   \n",
      "4  71.459792  Replaced different household (dependent code 95)    11.0   \n",
      "5  71.459792  Replaced different household (dependent code 95)    11.0   \n",
      "6  71.459792  Replaced different household (dependent code 95)    11.0   \n",
      "7  71.459792  Replaced different household (dependent code 95)    11.0   \n",
      "\n",
      "   s0q19y      pop_wt    clust      rwanda surveyh quintile  poverty  \\\n",
      "0    13.0  214.379379  10001.0  All Rwanda   Panel       Q4      3.0   \n",
      "1    13.0  214.379379  10001.0  All Rwanda   Panel       Q4      3.0   \n",
      "2    13.0  214.379379  10001.0  All Rwanda   Panel       Q4      3.0   \n",
      "3    13.0  214.379379  10001.0  All Rwanda   Panel       Q4      3.0   \n",
      "4    13.0  214.379379  10001.0  All Rwanda   Panel       Q4      3.0   \n",
      "5    13.0  513.081299  10001.0  All Rwanda   Panel       Q5      3.0   \n",
      "6    13.0  513.081299  10001.0  All Rwanda   Panel       Q5      3.0   \n",
      "7    13.0  513.081299  10001.0  All Rwanda   Panel       Q5      3.0   \n",
      "\n",
      "    Consumption         pid     Sex              Relat_Hhead  \n",
      "0  305390.90625  10000101.0  Female      Household head (HH)  \n",
      "1  305390.90625  10000102.0    Male    Son or daughter of HH  \n",
      "2  305390.90625  10000103.0    Male    Son or daughter of HH  \n",
      "3  305390.90625  10000104.0  Female    Son or daughter of HH  \n",
      "4  305390.90625  10000105.0    Male  Brother or sister of HH  \n",
      "5  372962.06250  10000201.0    Male      Household head (HH)  \n",
      "6  372962.06250  10000202.0    Male    No relationship to HH  \n",
      "7  372962.06250  10000203.0    Male    No relationship to HH  \n"
     ]
    }
   ],
   "source": [
    "Result_b = Result_b.rename(columns={\"ur2012\": \"urban_rural\",\n",
    "    \"s1q1\": \"Sex\",\n",
    "    \"s1q2\": \"Relat_Hhead\",\n",
    "    \"s1q3y\": \"Age\",\n",
    "    \"s3q3\": \"Health_insurance\"\n",
    "})\n",
    "# Verify\n",
    "print(Result_b.iloc[:8,:20])\n"
   ]
  },
  {
   "cell_type": "markdown",
   "id": "6c2648b3-ecd3-4cc8-bf9e-8ce0a958da91",
   "metadata": {},
   "source": [
    "4.From the original dataframe, select the following variables: \n",
    "hhid','province','ur2_2012','quintile','poverty','Consumption', Sex, Relat_Hhead ','Age', \n",
    "and ‘Health_insurance’ "
   ]
  },
  {
   "cell_type": "code",
   "execution_count": 44,
   "id": "60090f59-fadd-45ae-9237-7e2dc4ecb160",
   "metadata": {
    "scrolled": true
   },
   "outputs": [
    {
     "name": "stdout",
     "output_type": "stream",
     "text": [
      "       hhid     province urban_rural quintile  poverty   Consumption     Sex  \\\n",
      "0  100001.0  Kigali City       Urban       Q4      3.0  305390.90625  Female   \n",
      "1  100001.0  Kigali City       Urban       Q4      3.0  305390.90625    Male   \n",
      "2  100001.0  Kigali City       Urban       Q4      3.0  305390.90625    Male   \n",
      "3  100001.0  Kigali City       Urban       Q4      3.0  305390.90625  Female   \n",
      "4  100001.0  Kigali City       Urban       Q4      3.0  305390.90625    Male   \n",
      "5  100002.0  Kigali City       Urban       Q5      3.0  372962.06250    Male   \n",
      "6  100002.0  Kigali City       Urban       Q5      3.0  372962.06250    Male   \n",
      "7  100002.0  Kigali City       Urban       Q5      3.0  372962.06250    Male   \n",
      "8  100003.0  Kigali City       Urban       Q5      3.0  477309.40625    Male   \n",
      "\n",
      "               Relat_Hhead   Age  Health_insurance  \n",
      "0      Household head (HH)  33.0  Mutual insurance  \n",
      "1    Son or daughter of HH  16.0  Mutual insurance  \n",
      "2    Son or daughter of HH  14.0  Mutual insurance  \n",
      "3    Son or daughter of HH  10.0  Mutual insurance  \n",
      "4  Brother or sister of HH  19.0  Mutual insurance  \n",
      "5      Household head (HH)  36.0  Mutual insurance  \n",
      "6    No relationship to HH  27.0  Mutual insurance  \n",
      "7    No relationship to HH  20.0  Mutual insurance  \n",
      "8      Household head (HH)  44.0  Mutual insurance  \n"
     ]
    },
    {
     "data": {
      "text/html": [
       "<style type=\"text/css\">\n",
       "#T_099f3 table {\n",
       "  border-collapse: collapse;\n",
       "}\n",
       "#T_099f3 th {\n",
       "  border: 1px solid black;\n",
       "  padding: 5px;\n",
       "}\n",
       "#T_099f3  td {\n",
       "  border: 1px solid black;\n",
       "  padding: 5px;\n",
       "}\n",
       "</style>\n",
       "<table id=\"T_099f3\">\n",
       "  <thead>\n",
       "    <tr>\n",
       "      <th class=\"blank level0\" >&nbsp;</th>\n",
       "      <th id=\"T_099f3_level0_col0\" class=\"col_heading level0 col0\" >hhid</th>\n",
       "      <th id=\"T_099f3_level0_col1\" class=\"col_heading level0 col1\" >province</th>\n",
       "      <th id=\"T_099f3_level0_col2\" class=\"col_heading level0 col2\" >urban_rural</th>\n",
       "      <th id=\"T_099f3_level0_col3\" class=\"col_heading level0 col3\" >quintile</th>\n",
       "      <th id=\"T_099f3_level0_col4\" class=\"col_heading level0 col4\" >poverty</th>\n",
       "      <th id=\"T_099f3_level0_col5\" class=\"col_heading level0 col5\" >Consumption</th>\n",
       "      <th id=\"T_099f3_level0_col6\" class=\"col_heading level0 col6\" >Sex</th>\n",
       "      <th id=\"T_099f3_level0_col7\" class=\"col_heading level0 col7\" >Relat_Hhead</th>\n",
       "      <th id=\"T_099f3_level0_col8\" class=\"col_heading level0 col8\" >Age</th>\n",
       "      <th id=\"T_099f3_level0_col9\" class=\"col_heading level0 col9\" >Health_insurance</th>\n",
       "    </tr>\n",
       "  </thead>\n",
       "  <tbody>\n",
       "    <tr>\n",
       "      <th id=\"T_099f3_level0_row0\" class=\"row_heading level0 row0\" >0</th>\n",
       "      <td id=\"T_099f3_row0_col0\" class=\"data row0 col0\" >100001.000000</td>\n",
       "      <td id=\"T_099f3_row0_col1\" class=\"data row0 col1\" >Kigali City</td>\n",
       "      <td id=\"T_099f3_row0_col2\" class=\"data row0 col2\" >Urban</td>\n",
       "      <td id=\"T_099f3_row0_col3\" class=\"data row0 col3\" >Q4</td>\n",
       "      <td id=\"T_099f3_row0_col4\" class=\"data row0 col4\" >3.000000</td>\n",
       "      <td id=\"T_099f3_row0_col5\" class=\"data row0 col5\" >305390.906250</td>\n",
       "      <td id=\"T_099f3_row0_col6\" class=\"data row0 col6\" >Female</td>\n",
       "      <td id=\"T_099f3_row0_col7\" class=\"data row0 col7\" >Household head (HH)</td>\n",
       "      <td id=\"T_099f3_row0_col8\" class=\"data row0 col8\" >33.000000</td>\n",
       "      <td id=\"T_099f3_row0_col9\" class=\"data row0 col9\" >Mutual insurance</td>\n",
       "    </tr>\n",
       "    <tr>\n",
       "      <th id=\"T_099f3_level0_row1\" class=\"row_heading level0 row1\" >1</th>\n",
       "      <td id=\"T_099f3_row1_col0\" class=\"data row1 col0\" >100001.000000</td>\n",
       "      <td id=\"T_099f3_row1_col1\" class=\"data row1 col1\" >Kigali City</td>\n",
       "      <td id=\"T_099f3_row1_col2\" class=\"data row1 col2\" >Urban</td>\n",
       "      <td id=\"T_099f3_row1_col3\" class=\"data row1 col3\" >Q4</td>\n",
       "      <td id=\"T_099f3_row1_col4\" class=\"data row1 col4\" >3.000000</td>\n",
       "      <td id=\"T_099f3_row1_col5\" class=\"data row1 col5\" >305390.906250</td>\n",
       "      <td id=\"T_099f3_row1_col6\" class=\"data row1 col6\" >Male</td>\n",
       "      <td id=\"T_099f3_row1_col7\" class=\"data row1 col7\" >Son or daughter of HH</td>\n",
       "      <td id=\"T_099f3_row1_col8\" class=\"data row1 col8\" >16.000000</td>\n",
       "      <td id=\"T_099f3_row1_col9\" class=\"data row1 col9\" >Mutual insurance</td>\n",
       "    </tr>\n",
       "    <tr>\n",
       "      <th id=\"T_099f3_level0_row2\" class=\"row_heading level0 row2\" >2</th>\n",
       "      <td id=\"T_099f3_row2_col0\" class=\"data row2 col0\" >100001.000000</td>\n",
       "      <td id=\"T_099f3_row2_col1\" class=\"data row2 col1\" >Kigali City</td>\n",
       "      <td id=\"T_099f3_row2_col2\" class=\"data row2 col2\" >Urban</td>\n",
       "      <td id=\"T_099f3_row2_col3\" class=\"data row2 col3\" >Q4</td>\n",
       "      <td id=\"T_099f3_row2_col4\" class=\"data row2 col4\" >3.000000</td>\n",
       "      <td id=\"T_099f3_row2_col5\" class=\"data row2 col5\" >305390.906250</td>\n",
       "      <td id=\"T_099f3_row2_col6\" class=\"data row2 col6\" >Male</td>\n",
       "      <td id=\"T_099f3_row2_col7\" class=\"data row2 col7\" >Son or daughter of HH</td>\n",
       "      <td id=\"T_099f3_row2_col8\" class=\"data row2 col8\" >14.000000</td>\n",
       "      <td id=\"T_099f3_row2_col9\" class=\"data row2 col9\" >Mutual insurance</td>\n",
       "    </tr>\n",
       "    <tr>\n",
       "      <th id=\"T_099f3_level0_row3\" class=\"row_heading level0 row3\" >3</th>\n",
       "      <td id=\"T_099f3_row3_col0\" class=\"data row3 col0\" >100001.000000</td>\n",
       "      <td id=\"T_099f3_row3_col1\" class=\"data row3 col1\" >Kigali City</td>\n",
       "      <td id=\"T_099f3_row3_col2\" class=\"data row3 col2\" >Urban</td>\n",
       "      <td id=\"T_099f3_row3_col3\" class=\"data row3 col3\" >Q4</td>\n",
       "      <td id=\"T_099f3_row3_col4\" class=\"data row3 col4\" >3.000000</td>\n",
       "      <td id=\"T_099f3_row3_col5\" class=\"data row3 col5\" >305390.906250</td>\n",
       "      <td id=\"T_099f3_row3_col6\" class=\"data row3 col6\" >Female</td>\n",
       "      <td id=\"T_099f3_row3_col7\" class=\"data row3 col7\" >Son or daughter of HH</td>\n",
       "      <td id=\"T_099f3_row3_col8\" class=\"data row3 col8\" >10.000000</td>\n",
       "      <td id=\"T_099f3_row3_col9\" class=\"data row3 col9\" >Mutual insurance</td>\n",
       "    </tr>\n",
       "    <tr>\n",
       "      <th id=\"T_099f3_level0_row4\" class=\"row_heading level0 row4\" >4</th>\n",
       "      <td id=\"T_099f3_row4_col0\" class=\"data row4 col0\" >100001.000000</td>\n",
       "      <td id=\"T_099f3_row4_col1\" class=\"data row4 col1\" >Kigali City</td>\n",
       "      <td id=\"T_099f3_row4_col2\" class=\"data row4 col2\" >Urban</td>\n",
       "      <td id=\"T_099f3_row4_col3\" class=\"data row4 col3\" >Q4</td>\n",
       "      <td id=\"T_099f3_row4_col4\" class=\"data row4 col4\" >3.000000</td>\n",
       "      <td id=\"T_099f3_row4_col5\" class=\"data row4 col5\" >305390.906250</td>\n",
       "      <td id=\"T_099f3_row4_col6\" class=\"data row4 col6\" >Male</td>\n",
       "      <td id=\"T_099f3_row4_col7\" class=\"data row4 col7\" >Brother or sister of HH</td>\n",
       "      <td id=\"T_099f3_row4_col8\" class=\"data row4 col8\" >19.000000</td>\n",
       "      <td id=\"T_099f3_row4_col9\" class=\"data row4 col9\" >Mutual insurance</td>\n",
       "    </tr>\n",
       "    <tr>\n",
       "      <th id=\"T_099f3_level0_row5\" class=\"row_heading level0 row5\" >5</th>\n",
       "      <td id=\"T_099f3_row5_col0\" class=\"data row5 col0\" >100002.000000</td>\n",
       "      <td id=\"T_099f3_row5_col1\" class=\"data row5 col1\" >Kigali City</td>\n",
       "      <td id=\"T_099f3_row5_col2\" class=\"data row5 col2\" >Urban</td>\n",
       "      <td id=\"T_099f3_row5_col3\" class=\"data row5 col3\" >Q5</td>\n",
       "      <td id=\"T_099f3_row5_col4\" class=\"data row5 col4\" >3.000000</td>\n",
       "      <td id=\"T_099f3_row5_col5\" class=\"data row5 col5\" >372962.062500</td>\n",
       "      <td id=\"T_099f3_row5_col6\" class=\"data row5 col6\" >Male</td>\n",
       "      <td id=\"T_099f3_row5_col7\" class=\"data row5 col7\" >Household head (HH)</td>\n",
       "      <td id=\"T_099f3_row5_col8\" class=\"data row5 col8\" >36.000000</td>\n",
       "      <td id=\"T_099f3_row5_col9\" class=\"data row5 col9\" >Mutual insurance</td>\n",
       "    </tr>\n",
       "    <tr>\n",
       "      <th id=\"T_099f3_level0_row6\" class=\"row_heading level0 row6\" >6</th>\n",
       "      <td id=\"T_099f3_row6_col0\" class=\"data row6 col0\" >100002.000000</td>\n",
       "      <td id=\"T_099f3_row6_col1\" class=\"data row6 col1\" >Kigali City</td>\n",
       "      <td id=\"T_099f3_row6_col2\" class=\"data row6 col2\" >Urban</td>\n",
       "      <td id=\"T_099f3_row6_col3\" class=\"data row6 col3\" >Q5</td>\n",
       "      <td id=\"T_099f3_row6_col4\" class=\"data row6 col4\" >3.000000</td>\n",
       "      <td id=\"T_099f3_row6_col5\" class=\"data row6 col5\" >372962.062500</td>\n",
       "      <td id=\"T_099f3_row6_col6\" class=\"data row6 col6\" >Male</td>\n",
       "      <td id=\"T_099f3_row6_col7\" class=\"data row6 col7\" >No relationship to HH</td>\n",
       "      <td id=\"T_099f3_row6_col8\" class=\"data row6 col8\" >27.000000</td>\n",
       "      <td id=\"T_099f3_row6_col9\" class=\"data row6 col9\" >Mutual insurance</td>\n",
       "    </tr>\n",
       "    <tr>\n",
       "      <th id=\"T_099f3_level0_row7\" class=\"row_heading level0 row7\" >7</th>\n",
       "      <td id=\"T_099f3_row7_col0\" class=\"data row7 col0\" >100002.000000</td>\n",
       "      <td id=\"T_099f3_row7_col1\" class=\"data row7 col1\" >Kigali City</td>\n",
       "      <td id=\"T_099f3_row7_col2\" class=\"data row7 col2\" >Urban</td>\n",
       "      <td id=\"T_099f3_row7_col3\" class=\"data row7 col3\" >Q5</td>\n",
       "      <td id=\"T_099f3_row7_col4\" class=\"data row7 col4\" >3.000000</td>\n",
       "      <td id=\"T_099f3_row7_col5\" class=\"data row7 col5\" >372962.062500</td>\n",
       "      <td id=\"T_099f3_row7_col6\" class=\"data row7 col6\" >Male</td>\n",
       "      <td id=\"T_099f3_row7_col7\" class=\"data row7 col7\" >No relationship to HH</td>\n",
       "      <td id=\"T_099f3_row7_col8\" class=\"data row7 col8\" >20.000000</td>\n",
       "      <td id=\"T_099f3_row7_col9\" class=\"data row7 col9\" >Mutual insurance</td>\n",
       "    </tr>\n",
       "    <tr>\n",
       "      <th id=\"T_099f3_level0_row8\" class=\"row_heading level0 row8\" >8</th>\n",
       "      <td id=\"T_099f3_row8_col0\" class=\"data row8 col0\" >100003.000000</td>\n",
       "      <td id=\"T_099f3_row8_col1\" class=\"data row8 col1\" >Kigali City</td>\n",
       "      <td id=\"T_099f3_row8_col2\" class=\"data row8 col2\" >Urban</td>\n",
       "      <td id=\"T_099f3_row8_col3\" class=\"data row8 col3\" >Q5</td>\n",
       "      <td id=\"T_099f3_row8_col4\" class=\"data row8 col4\" >3.000000</td>\n",
       "      <td id=\"T_099f3_row8_col5\" class=\"data row8 col5\" >477309.406250</td>\n",
       "      <td id=\"T_099f3_row8_col6\" class=\"data row8 col6\" >Male</td>\n",
       "      <td id=\"T_099f3_row8_col7\" class=\"data row8 col7\" >Household head (HH)</td>\n",
       "      <td id=\"T_099f3_row8_col8\" class=\"data row8 col8\" >44.000000</td>\n",
       "      <td id=\"T_099f3_row8_col9\" class=\"data row8 col9\" >Mutual insurance</td>\n",
       "    </tr>\n",
       "  </tbody>\n",
       "</table>\n"
      ],
      "text/plain": [
       "<pandas.io.formats.style.Styler at 0x2b865370200>"
      ]
     },
     "execution_count": 44,
     "metadata": {},
     "output_type": "execute_result"
    }
   ],
   "source": [
    "print(Result_b.loc[:8,['hhid','province','urban_rural','quintile','poverty','Consumption','Sex','Relat_Hhead','Age','Health_insurance']])\n",
    "# Select rows and columns from the DataFrame\n",
    "selected_data = Result_b.loc[:8, ['hhid', 'province', 'urban_rural', 'quintile', 'poverty',\n",
    "                                  'Consumption', 'Sex', 'Relat_Hhead', 'Age', 'Health_insurance']]\n",
    "\n",
    "# Apply gridlines using pandas styling\n",
    "styled_data = selected_data.style.set_table_styles(\n",
    "    [\n",
    "        {\"selector\": \"table\", \"props\": [(\"border-collapse\", \"collapse\")]},\n",
    "        {\"selector\": \"th, td\", \"props\": [(\"border\", \"1px solid black\"), (\"padding\", \"5px\")]}\n",
    "    ]\n",
    ")\n",
    "\n",
    "# Display the styled DataFrame\n",
    "styled_data\n"
   ]
  },
  {
   "cell_type": "markdown",
   "id": "7f6f2cd0-83a0-4e46-b50c-0bd152900c16",
   "metadata": {},
   "source": [
    "5. Summarize the average Age or Consumption by Province and Urban_Rural."
   ]
  },
  {
   "cell_type": "code",
   "execution_count": 56,
   "id": "f801d5b6-c0a7-4c68-a2c1-7e1720f176c8",
   "metadata": {},
   "outputs": [
    {
     "name": "stdout",
     "output_type": "stream",
     "text": [
      "Average Age by Province and Urban_Rural:\n",
      "             province urban_rural        Age\n",
      "0         Kigali City       Urban  22.529837\n",
      "1         Kigali City  Semi urban        NaN\n",
      "2         Kigali City  Peri urban  22.065499\n",
      "3         Kigali City       Rural        NaN\n",
      "4   Southern Province       Urban  23.442846\n",
      "5   Southern Province  Semi urban  23.553991\n",
      "6   Southern Province  Peri urban  24.561742\n",
      "7   Southern Province       Rural  24.028579\n",
      "8    Western Province       Urban  21.211089\n",
      "9    Western Province  Semi urban  22.945545\n",
      "10   Western Province  Peri urban  21.646552\n",
      "11   Western Province       Rural  22.688286\n",
      "12  Northern Province       Urban  23.217949\n",
      "13  Northern Province  Semi urban  23.287037\n",
      "14  Northern Province  Peri urban  24.188489\n",
      "15  Northern Province       Rural  23.301332\n",
      "16   Eastern Province       Urban  22.622616\n",
      "17   Eastern Province  Semi urban  22.153257\n",
      "18   Eastern Province  Peri urban  21.876754\n",
      "19   Eastern Province       Rural  22.243559\n"
     ]
    },
    {
     "name": "stderr",
     "output_type": "stream",
     "text": [
      "C:\\Users\\Ashulah\\AppData\\Local\\Temp\\ipykernel_3144\\3636387780.py:3: FutureWarning: The default of observed=False is deprecated and will be changed to True in a future version of pandas. Pass observed=False to retain current behavior or observed=True to adopt the future default and silence this warning.\n",
      "  avg_age = Result_b.groupby(['province', 'urban_rural'])['Age'].mean().reset_index()\n"
     ]
    }
   ],
   "source": [
    "Result_b['Age'] = pd.to_numeric(Result_b['Age'], errors='coerce')\n",
    "\n",
    "avg_age = Result_b.groupby(['province', 'urban_rural'])['Age'].mean().reset_index()\n",
    "\n",
    "# Print the result\n",
    "print(\"Average Age by Province and Urban_Rural:\")\n",
    "print(avg_age)\n"
   ]
  },
  {
   "cell_type": "code",
   "execution_count": 54,
   "id": "c45d80b0-76d7-4f5a-8c87-8b9fb21292d0",
   "metadata": {},
   "outputs": [
    {
     "name": "stdout",
     "output_type": "stream",
     "text": [
      "\\Average Consumption by Province and Urban/Rural:\n",
      "             province urban_rural    Consumption\n",
      "0         Kigali City       Urban  737101.312500\n",
      "1         Kigali City  Semi urban            NaN\n",
      "2         Kigali City  Peri urban  237922.296875\n",
      "3         Kigali City       Rural            NaN\n",
      "4   Southern Province       Urban  817167.125000\n",
      "5   Southern Province  Semi urban  506011.687500\n",
      "6   Southern Province  Peri urban  280654.875000\n",
      "7   Southern Province       Rural  223821.203125\n",
      "8    Western Province       Urban  679516.875000\n",
      "9    Western Province  Semi urban  343164.718750\n",
      "10   Western Province  Peri urban  292934.593750\n",
      "11   Western Province       Rural  201396.656250\n",
      "12  Northern Province       Urban  779886.375000\n",
      "13  Northern Province  Semi urban  276561.812500\n",
      "14  Northern Province  Peri urban  218988.937500\n",
      "15  Northern Province       Rural  197925.250000\n",
      "16   Eastern Province       Urban  682044.750000\n",
      "17   Eastern Province  Semi urban  421220.500000\n",
      "18   Eastern Province  Peri urban  329000.875000\n",
      "19   Eastern Province       Rural  230988.062500\n"
     ]
    },
    {
     "name": "stderr",
     "output_type": "stream",
     "text": [
      "<>:6: SyntaxWarning: invalid escape sequence '\\A'\n",
      "<>:6: SyntaxWarning: invalid escape sequence '\\A'\n",
      "C:\\Users\\Ashulah\\AppData\\Local\\Temp\\ipykernel_3144\\2836159983.py:6: SyntaxWarning: invalid escape sequence '\\A'\n",
      "  print(\"\\Average Consumption by Province and Urban/Rural:\")\n",
      "C:\\Users\\Ashulah\\AppData\\Local\\Temp\\ipykernel_3144\\2836159983.py:4: FutureWarning: The default of observed=False is deprecated and will be changed to True in a future version of pandas. Pass observed=False to retain current behavior or observed=True to adopt the future default and silence this warning.\n",
      "  avg_consumption = Result_b.groupby(['province', 'urban_rural'])['Consumption'].mean().reset_index()\n"
     ]
    }
   ],
   "source": [
    "\n",
    "Result_b['Consumption'] = pd.to_numeric(Result_b['Consumption'], errors='coerce')\n",
    "\n",
    "# Calculate average consumption by province and urban/rural\n",
    "avg_consumption = Result_b.groupby(['province', 'urban_rural'])['Consumption'].mean().reset_index()\n",
    "\n",
    "print(\"\\Average Consumption by Province and Urban/Rural:\")\n",
    "print(avg_consumption)"
   ]
  },
  {
   "cell_type": "markdown",
   "id": "475a7ea2-5d38-4227-9df8-dc5c23f3cc54",
   "metadata": {},
   "source": [
    "6. Which commands that are used to detect outliers for the variable “Age”? run and \n",
    "interpreted the output."
   ]
  },
  {
   "cell_type": "code",
   "execution_count": 80,
   "id": "51c05d4d-24e9-4f5b-86fa-8c53272a2b91",
   "metadata": {},
   "outputs": [
    {
     "data": {
      "image/png": "[encoded data removed]",
      "text/plain": [
       "<Figure size 640x480 with 1 Axes>"
      ]
     },
     "metadata": {},
     "output_type": "display_data"
    }
   ],
   "source": [
    "import matplotlib.pyplot as plt\n",
    "\n",
    "# Create a boxplot for 'Age'\n",
    "plt.boxplot(Result_b['Age'], vert=False)\n",
    "plt.title('Boxplot for Age')\n",
    "plt.xlabel('Age')\n",
    "plt.show()\n"
   ]
  },
  {
   "cell_type": "code",
   "execution_count": 84,
   "id": "0386dbea-a5c0-4358-85c6-c0e959d40f31",
   "metadata": {},
   "outputs": [
    {
     "data": {
      "image/png": "[encoded data removed]",
      "text/plain": [
       "<Figure size 640x480 with 1 Axes>"
      ]
     },
     "metadata": {},
     "output_type": "display_data"
    }
   ],
   "source": [
    "# Scatterplot for Age vs Province\n",
    "import seaborn as sns\n",
    "sns.scatterplot(x='Age', y='province', data=Result_b)\n",
    "plt.title('Scatterplot of Age by Province')\n",
    "plt.show()\n"
   ]
  },
  {
   "cell_type": "markdown",
   "id": "5aeea90c-8df8-4a25-a0d4-ed25142d8c32",
   "metadata": {},
   "source": [
    "7. Run the percentages of males and females by quintile "
   ]
  },
  {
   "cell_type": "code",
   "execution_count": 34,
   "id": "4d6d5f2f-2c00-40da-b629-e8a7215351f6",
   "metadata": {},
   "outputs": [
    {
     "name": "stdout",
     "output_type": "stream",
     "text": [
      "s1q1           Male     Female\n",
      "quintile                      \n",
      "Q1        46.837659  53.162341\n",
      "Q2        46.773828  53.226172\n",
      "Q3        47.835317  52.164683\n",
      "Q4        47.809829  52.190171\n",
      "Q5        49.395432  50.604568\n"
     ]
    },
    {
     "name": "stderr",
     "output_type": "stream",
     "text": [
      "C:\\Users\\Ashulah\\AppData\\Local\\Temp\\ipykernel_3144\\2955387022.py:1: FutureWarning: The default of observed=False is deprecated and will be changed to True in a future version of pandas. Pass observed=False to retain current behavior or observed=True to adopt the future default and silence this warning.\n",
      "  gender_quintile_counts = Result_b.groupby(['quintile', 's1q1']).size().unstack(fill_value=0)\n"
     ]
    }
   ],
   "source": [
    "gender_quintile_counts = Result_b.groupby(['quintile', 's1q1']).size().unstack(fill_value=0)\n",
    "\n",
    "gender_quintile_percentages = gender_quintile_counts.div(gender_quintile_counts.sum(axis=1), axis=0) * 100\n",
    "\n",
    "print(gender_quintile_percentages)"
   ]
  },
  {
   "cell_type": "code",
   "execution_count": 40,
   "id": "c320f112-9c56-41a9-8112-834f13502ade",
   "metadata": {},
   "outputs": [
    {
     "name": "stdout",
     "output_type": "stream",
     "text": [
      "+-------------------------------------+----------+----------+\n",
      "|                                     |     Male |   Female |\n",
      "+=====================================+==========+==========+\n",
      "| ('Kigali City', 'Urban')            |  48.916  |  51.084  |\n",
      "+-------------------------------------+----------+----------+\n",
      "| ('Kigali City', 'Semi urban')       | nan      | nan      |\n",
      "+-------------------------------------+----------+----------+\n",
      "| ('Kigali City', 'Peri urban')       |  48.6672 |  51.3328 |\n",
      "+-------------------------------------+----------+----------+\n",
      "| ('Kigali City', 'Rural')            | nan      | nan      |\n",
      "+-------------------------------------+----------+----------+\n",
      "| ('Southern Province', 'Urban')      |  46.9225 |  53.0775 |\n",
      "+-------------------------------------+----------+----------+\n",
      "| ('Southern Province', 'Semi urban') |  50.2347 |  49.7653 |\n",
      "+-------------------------------------+----------+----------+\n",
      "| ('Southern Province', 'Peri urban') |  48.394  |  51.606  |\n",
      "+-------------------------------------+----------+----------+\n",
      "| ('Southern Province', 'Rural')      |  47.3512 |  52.6488 |\n",
      "+-------------------------------------+----------+----------+\n",
      "| ('Western Province', 'Urban')       |  50.2338 |  49.7662 |\n",
      "+-------------------------------------+----------+----------+\n",
      "| ('Western Province', 'Semi urban')  |  47.6898 |  52.3102 |\n",
      "+-------------------------------------+----------+----------+\n",
      "| ('Western Province', 'Peri urban')  |  45.8128 |  54.1872 |\n",
      "+-------------------------------------+----------+----------+\n",
      "| ('Western Province', 'Rural')       |  47.0331 |  52.9669 |\n",
      "+-------------------------------------+----------+----------+\n",
      "| ('Northern Province', 'Urban')      |  47.151  |  52.849  |\n",
      "+-------------------------------------+----------+----------+\n",
      "| ('Northern Province', 'Semi urban') |  50.463  |  49.537  |\n",
      "+-------------------------------------+----------+----------+\n",
      "| ('Northern Province', 'Peri urban') |  45.8993 |  54.1007 |\n",
      "+-------------------------------------+----------+----------+\n",
      "| ('Northern Province', 'Rural')      |  47.9065 |  52.0935 |\n",
      "+-------------------------------------+----------+----------+\n",
      "| ('Eastern Province', 'Urban')       |  48.9101 |  51.0899 |\n",
      "+-------------------------------------+----------+----------+\n",
      "| ('Eastern Province', 'Semi urban')  |  46.1686 |  53.8314 |\n",
      "+-------------------------------------+----------+----------+\n",
      "| ('Eastern Province', 'Peri urban')  |  46.8938 |  53.1062 |\n",
      "+-------------------------------------+----------+----------+\n",
      "| ('Eastern Province', 'Rural')       |  48.1385 |  51.8615 |\n",
      "+-------------------------------------+----------+----------+\n"
     ]
    },
    {
     "name": "stderr",
     "output_type": "stream",
     "text": [
      "C:\\Users\\Ashulah\\AppData\\Local\\Temp\\ipykernel_3144\\444030688.py:2: FutureWarning: The default of observed=False is deprecated and will be changed to True in a future version of pandas. Pass observed=False to retain current behavior or observed=True to adopt the future default and silence this warning.\n",
      "  gender_province_urban_rural_counts = Result_b.groupby(['province', 'ur2012', 's1q1']).size().unstack(fill_value=0)\n"
     ]
    }
   ],
   "source": [
    "from tabulate import tabulate\n",
    "gender_province_urban_rural_counts = Result_b.groupby(['province', 'ur2012', 's1q1']).size().unstack(fill_value=0)\n",
    "\n",
    "gender_province_urban_rural_percentages = gender_province_urban_rural_counts.div(gender_province_urban_rural_counts.sum(axis=1), axis=0) * 100\n",
    "print(tabulate(gender_province_urban_rural_percentages, headers=\"keys\", tablefmt=\"grid\"))\n",
    "#print(gender_province_urban_rural_percentages)"
   ]
  },
  {
   "cell_type": "markdown",
   "id": "ff3beec3-83d3-463f-9fa6-f385ab50669d",
   "metadata": {},
   "source": [
    "Document your steps (Provide titles and comments throughout the script to explain \n",
    "each command used and outputs)"
   ]
  },
  {
   "cell_type": "markdown",
   "id": "36ca4a22-2d70-4d13-ac6f-0633a5ed81c0",
   "metadata": {},
   "source": [
    "###  PERFORMED STEPS ON THIS TASK ARE AS FOLLOW:"
   ]
  },
  {
   "cell_type": "markdown",
   "id": "f32de882-b9bd-4249-b560-b8e2b4b7e001",
   "metadata": {},
   "source": [
    "## STEP1: Was loading a dataset by using python code \n",
    "Result_b=pd.read_stata(\"cs_s1_s2_s3_s4_s6a_s6e_s6f_person.dta\")\n",
    "Result_b.tail(5)\n",
    "This provide out put as all table holding data.\n",
    "And also knowing size of dataset,\n",
    "...len(Result_b) #size of dataframe "
   ]
  },
  {
   "cell_type": "markdown",
   "id": "40560788-c645-4a92-994b-841b476ffeb7",
   "metadata": {},
   "source": [
    "## STEPS2: Was about to use the .describe() function to summarize the statistics of a numerical column from a dataset,\n",
    "this provide insights can you infer from the output: python code used to summarize\n",
    "weight_summary = Result_b[\"weight\"].describe()\n",
    "print(weight_summary)"
   ]
  },
  {
   "cell_type": "code",
   "execution_count": null,
   "id": "476555f6-dc15-4c25-b8d9-dba260144b26",
   "metadata": {},
   "outputs": [],
   "source": []
  }
 ],
 "metadata": {
  "kernelspec": {
   "display_name": "Python 3 (ipykernel)",
   "language": "python",
   "name": "python3"
  },
  "language_info": {
   "codemirror_mode": {
    "name": "ipython",
    "version": 3
   },
   "file_extension": ".py",
   "mimetype": "text/x-python",
   "name": "python",
   "nbconvert_exporter": "python",
   "pygments_lexer": "ipython3",
   "version": "3.12.7"
  }
 },
 "nbformat": 4,
 "nbformat_minor": 5
}
